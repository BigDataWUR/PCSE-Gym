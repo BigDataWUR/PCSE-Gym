{
  "nbformat": 4,
  "nbformat_minor": 0,
  "metadata": {
    "colab": {
      "provenance": []
    },
    "kernelspec": {
      "name": "python3",
      "display_name": "Python 3"
    },
    "language_info": {
      "name": "python"
    }
  },
  "cells": [
    {
      "cell_type": "code",
      "execution_count": null,
      "metadata": {
        "id": "s7Sg75ceZJaF"
      },
      "outputs": [],
      "source": [
        "# Install libraries\n",
        "!rm -fr /content/PCSE-Gym && cd /content/ && git clone https://github.com/BigDataWUR/PCSE-Gym.git\n",
        "!cd /content/PCSE-Gym && git switch develop\n",
        "\n",
        "!pip3 uninstall -y --quiet pcse\n",
        "!rm -fr /content/pcse && cd /content/ && git clone https://github.com/ajwdewit/pcse.git\n",
        "!cd /content/pcse && git switch develop_WOFOST_v8_1 && git apply /content/PCSE-Gym/_notebooks_old/nitrogen-winterwheat/pcse-lintul3.patch && pip3 install --quiet -e .\n",
        "\n",
        "!pip3 install stable_baselines3 sb3_contrib lib_programname gymnasium\n",
        "!pip3 install --upgrade --quiet cloudpickle pickle5\n",
        "!pip3 install numpy==1.24.3"
      ]
    },
    {
      "cell_type": "code",
      "source": [
        "!export PYTHONPATH=\"${PYTHONPATH}:/content/PCSE-Gym/:/content/PCSE-Gym/pcse_gym\" && cd /content/PCSE-Gym && python3 -W ignore::DeprecationWarning tests/test_obs_cost.py"
      ],
      "metadata": {
        "id": "i_8TniYsaOE-"
      },
      "execution_count": null,
      "outputs": []
    }
  ]
}